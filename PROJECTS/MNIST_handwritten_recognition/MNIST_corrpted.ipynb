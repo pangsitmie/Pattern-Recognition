{
  "cells": [
    {
      "cell_type": "code",
      "execution_count": 4,
      "metadata": {
        "colab": {
          "base_uri": "https://localhost:8080/",
          "height": 719,
          "referenced_widgets": [
            "3d35340dff7847e6880b702352d42ccb",
            "4fe7dec5f3ee49de9f1f5e0d82b76c3e",
            "04f17484421c49cf9170b25bc6d6c5c9",
            "b165b0ab39c4450091b5e9d222c1eb2c",
            "14c6ee4e35c14682826ba03ddd35f165",
            "1e8270ab90644287928b2c1b4f8b82b7",
            "8944872fbcbb4b2086b95a14cc4399e6",
            "f6c0700d65e34ce4a6fe65a7e9293297"
          ]
        },
        "id": "Ra7hsoIFDhnV",
        "outputId": "d25921a4-70fd-40d9-f3b6-463ce2d51c46"
      },
      "outputs": [
        {
          "name": "stdout",
          "output_type": "stream",
          "text": [
            "\u001b[1mDownloading and preparing dataset Unknown size (download: Unknown size, generated: Unknown size, total: Unknown size) to ~\\tensorflow_datasets\\mnist_corrupted\\identity\\1.0.0...\u001b[0m\n"
          ]
        },
        {
          "data": {
            "application/vnd.jupyter.widget-view+json": {
              "model_id": "f88532a3c98c43a9aff4a698af2fa48d",
              "version_major": 2,
              "version_minor": 0
            },
            "text/plain": [
              "Dl Completed...: 0 url [00:00, ? url/s]"
            ]
          },
          "metadata": {},
          "output_type": "display_data"
        },
        {
          "data": {
            "application/vnd.jupyter.widget-view+json": {
              "model_id": "c82b0394e0a74064988c7030dd67566c",
              "version_major": 2,
              "version_minor": 0
            },
            "text/plain": [
              "Dl Size...: 0 MiB [00:00, ? MiB/s]"
            ]
          },
          "metadata": {},
          "output_type": "display_data"
        },
        {
          "data": {
            "application/vnd.jupyter.widget-view+json": {
              "model_id": "998a19e353374c059acd13d7a56ffe00",
              "version_major": 2,
              "version_minor": 0
            },
            "text/plain": [
              "Extraction completed...: 0 file [00:00, ? file/s]"
            ]
          },
          "metadata": {},
          "output_type": "display_data"
        },
        {
          "data": {
            "application/vnd.jupyter.widget-view+json": {
              "model_id": "27d976641e134d06af4704a2f5b85da8",
              "version_major": 2,
              "version_minor": 0
            },
            "text/plain": [
              "Generating splits...:   0%|          | 0/2 [00:00<?, ? splits/s]"
            ]
          },
          "metadata": {},
          "output_type": "display_data"
        },
        {
          "data": {
            "application/vnd.jupyter.widget-view+json": {
              "model_id": "616f74d0aff944b98fb7a72d10f95334",
              "version_major": 2,
              "version_minor": 0
            },
            "text/plain": [
              "Generating train examples...: 0 examples [00:00, ? examples/s]"
            ]
          },
          "metadata": {},
          "output_type": "display_data"
        },
        {
          "data": {
            "application/vnd.jupyter.widget-view+json": {
              "model_id": "88c05e3e932c44dd9868198a5cbfa6f7",
              "version_major": 2,
              "version_minor": 0
            },
            "text/plain": [
              "Shuffling ~\\tensorflow_datasets\\mnist_corrupted\\identity\\1.0.0.incompleteEHYN21\\mnist_corrupted-train.tfrecord…"
            ]
          },
          "metadata": {},
          "output_type": "display_data"
        },
        {
          "data": {
            "application/vnd.jupyter.widget-view+json": {
              "model_id": "b5796386c674412d8cbd83facabc8c68",
              "version_major": 2,
              "version_minor": 0
            },
            "text/plain": [
              "Generating test examples...: 0 examples [00:00, ? examples/s]"
            ]
          },
          "metadata": {},
          "output_type": "display_data"
        },
        {
          "data": {
            "application/vnd.jupyter.widget-view+json": {
              "model_id": "b2e96f10e093466fb086a3b742a8ede5",
              "version_major": 2,
              "version_minor": 0
            },
            "text/plain": [
              "Shuffling ~\\tensorflow_datasets\\mnist_corrupted\\identity\\1.0.0.incompleteEHYN21\\mnist_corrupted-test.tfrecord*…"
            ]
          },
          "metadata": {},
          "output_type": "display_data"
        },
        {
          "name": "stdout",
          "output_type": "stream",
          "text": [
            "\u001b[1mDataset mnist_corrupted downloaded and prepared to ~\\tensorflow_datasets\\mnist_corrupted\\identity\\1.0.0. Subsequent calls will reuse this data.\u001b[0m\n"
          ]
        },
        {
          "data": {
            "image/png": "[encoded data removed]",
            "text/plain": [
              "<Figure size 648x648 with 9 Axes>"
            ]
          },
          "metadata": {},
          "output_type": "display_data"
        }
      ],
      "source": [
        "import tensorflow_datasets as tfds\n",
        "\n",
        "#tfds.list_builders()\n",
        "\n",
        "name = 'mnist_corrupted'\n",
        "ds, info = tfds.load(name, with_info=True, as_supervised=True)\n",
        "f = tfds.show_examples(ds['train'], info)"
      ]
    },
    {
      "cell_type": "code",
      "execution_count": 5,
      "metadata": {
        "id": "inBJaAb7Nivr"
      },
      "outputs": [],
      "source": [
        "import numpy as np\n",
        "from keras.utils import np_utils\n",
        "\n",
        "ds = tfds.as_numpy(tfds.load(name, as_supervised=True, batch_size=-1))\n",
        "(X_train, y_train), (X_test, y_test) = ds['train'], ds['test']\n",
        "\n",
        "classes = 10\n",
        "y_test = np_utils.to_categorical(y_test, classes)\n",
        "y_train = np_utils.to_categorical(y_train, classes)"
      ]
    },
    {
      "cell_type": "code",
      "execution_count": 6,
      "metadata": {
        "colab": {
          "base_uri": "https://localhost:8080/"
        },
        "id": "SlZ1RsmMw8ZV",
        "outputId": "751a5655-e3da-41e5-c5a0-fb4bd0869fd3"
      },
      "outputs": [
        {
          "name": "stdout",
          "output_type": "stream",
          "text": [
            "X_train (60000, 28, 28, 1) X_test (10000, 28, 28, 1)\n",
            "y_train (60000, 10) y_test (10000, 10)\n"
          ]
        }
      ],
      "source": [
        "print(\"X_train\", X_train.shape, \"X_test\", X_test.shape)\n",
        "print(\"y_train\", y_train.shape, \"y_test\", y_test.shape)"
      ]
    },
    {
      "cell_type": "code",
      "execution_count": 7,
      "metadata": {
        "colab": {
          "base_uri": "https://localhost:8080/"
        },
        "id": "pXOGxQ_PDkVB",
        "outputId": "1dc6cf8f-280f-4131-efaf-44a2c7fbce44"
      },
      "outputs": [
        {
          "name": "stdout",
          "output_type": "stream",
          "text": [
            "Model: \"sequential\"\n",
            "_________________________________________________________________\n",
            " Layer (type)                Output Shape              Param #   \n",
            "=================================================================\n",
            " conv2d (Conv2D)             (None, 26, 26, 16)        160       \n",
            "                                                                 \n",
            " max_pooling2d (MaxPooling2D  (None, 13, 13, 16)       0         \n",
            " )                                                               \n",
            "                                                                 \n",
            " flatten (Flatten)           (None, 2704)              0         \n",
            "                                                                 \n",
            " dense (Dense)               (None, 32)                86560     \n",
            "                                                                 \n",
            " dense_1 (Dense)             (None, 10)                330       \n",
            "                                                                 \n",
            "=================================================================\n",
            "Total params: 87,050\n",
            "Trainable params: 87,050\n",
            "Non-trainable params: 0\n",
            "_________________________________________________________________\n"
          ]
        }
      ],
      "source": [
        "from keras.models import Sequential\n",
        "from keras.layers import InputLayer, Conv2D, MaxPool2D, Flatten, Dense\n",
        "\n",
        "model = Sequential() # 建立空的模型框架\n",
        "model.add(InputLayer(input_shape=(28, 28, 1))) # 第一層這樣固定\n",
        "# ↓↓↓發揮想像力的時候到了↓↓↓\n",
        "\n",
        "# 有用到卷積層只要改第一個數字就好，經驗上是2的倍數，其他照舊，長寬維度每次會少2\n",
        "model.add(Conv2D(16, 3, activation='relu'))\n",
        "\n",
        "# 用到池化層這樣打就好，注意!前一層如果有某個維度是1會報錯(1不能再除了阿~)\n",
        "model.add(MaxPool2D())\n",
        "\n",
        "model.add(Flatten()) # 接Dense之前要先Flatten\n",
        "\n",
        "# 神經元也可以多層組成FC，一樣改第一個數字\n",
        "model.add(Dense(32, activation='relu'))\n",
        "\n",
        "# ↑↑↑發揮想像力的時候到了↑↑↑\n",
        "\n",
        "# 最後一層輸出的activation給固定\"softmax\"\n",
        "model.add(Dense(10, activation='softmax'))\n",
        "\n",
        "# 模型總覽\n",
        "model.summary()\n"
      ]
    },
    {
      "cell_type": "code",
      "execution_count": 8,
      "metadata": {
        "id": "6joJT--uHaQc"
      },
      "outputs": [],
      "source": [
        "import matplotlib.pyplot as plt\n",
        "\n",
        "def show_train_history(train_history):\n",
        "    fig=plt.gcf()\n",
        "    fig.set_size_inches(16, 6)\n",
        "    plt.subplot(121)\n",
        "    plt.plot(train_history.history[\"accuracy\"])\n",
        "    plt.plot(train_history.history[\"val_accuracy\"])\n",
        "    plt.title(\"Train History\")\n",
        "    plt.xlabel(\"Epoch\")\n",
        "    plt.ylabel(\"Accuracy\")\n",
        "    plt.legend([\"train\", \"validation\"], loc=\"best\")\n",
        "    plt.subplot(122)\n",
        "    plt.plot(train_history.history[\"loss\"])\n",
        "    plt.plot(train_history.history[\"val_loss\"])\n",
        "    plt.title(\"Train History\")\n",
        "    plt.xlabel(\"Epoch\")\n",
        "    plt.ylabel(\"Loss\")\n",
        "    plt.legend([\"train\", \"validation\"], loc=\"best\")\n",
        "    plt.show()"
      ]
    },
    {
      "cell_type": "code",
      "execution_count": 9,
      "metadata": {
        "colab": {
          "base_uri": "https://localhost:8080/",
          "height": 1000
        },
        "id": "P18JpBzcDl64",
        "outputId": "f85837eb-1646-4d13-8e87-9d69604355bb"
      },
      "outputs": [
        {
          "name": "stdout",
          "output_type": "stream",
          "text": [
            "Epoch 1/50\n",
            "240/240 [==============================] - 3s 13ms/step - loss: 1.4249 - accuracy: 0.7632 - val_loss: 0.4432 - val_accuracy: 0.8989\n",
            "Epoch 2/50\n",
            "240/240 [==============================] - 3s 13ms/step - loss: 0.2944 - accuracy: 0.9254 - val_loss: 0.2598 - val_accuracy: 0.9387\n",
            "Epoch 3/50\n",
            "240/240 [==============================] - 3s 13ms/step - loss: 0.1760 - accuracy: 0.9528 - val_loss: 0.1941 - val_accuracy: 0.9518\n",
            "Epoch 4/50\n",
            "240/240 [==============================] - 3s 13ms/step - loss: 0.1190 - accuracy: 0.9666 - val_loss: 0.1721 - val_accuracy: 0.9600\n",
            "Epoch 5/50\n",
            "240/240 [==============================] - 3s 13ms/step - loss: 0.0847 - accuracy: 0.9749 - val_loss: 0.1382 - val_accuracy: 0.9676\n",
            "Epoch 6/50\n",
            "240/240 [==============================] - 3s 14ms/step - loss: 0.0668 - accuracy: 0.9806 - val_loss: 0.1289 - val_accuracy: 0.9692\n",
            "Epoch 7/50\n",
            "240/240 [==============================] - 3s 14ms/step - loss: 0.0551 - accuracy: 0.9829 - val_loss: 0.1250 - val_accuracy: 0.9701\n",
            "Epoch 8/50\n",
            "240/240 [==============================] - 3s 14ms/step - loss: 0.0411 - accuracy: 0.9870 - val_loss: 0.1250 - val_accuracy: 0.9722\n",
            "Epoch 9/50\n",
            "240/240 [==============================] - 3s 14ms/step - loss: 0.0327 - accuracy: 0.9894 - val_loss: 0.1217 - val_accuracy: 0.9743\n",
            "Epoch 10/50\n",
            "240/240 [==============================] - 3s 14ms/step - loss: 0.0296 - accuracy: 0.9902 - val_loss: 0.1233 - val_accuracy: 0.9723\n",
            "Epoch 11/50\n",
            "240/240 [==============================] - 3s 14ms/step - loss: 0.0241 - accuracy: 0.9920 - val_loss: 0.1194 - val_accuracy: 0.9738\n",
            "Epoch 12/50\n",
            "240/240 [==============================] - 3s 14ms/step - loss: 0.0220 - accuracy: 0.9925 - val_loss: 0.1362 - val_accuracy: 0.9734\n",
            "Epoch 13/50\n",
            "240/240 [==============================] - 3s 14ms/step - loss: 0.0235 - accuracy: 0.9920 - val_loss: 0.1337 - val_accuracy: 0.9749\n",
            "Epoch 14/50\n",
            "240/240 [==============================] - 3s 14ms/step - loss: 0.0201 - accuracy: 0.9933 - val_loss: 0.1523 - val_accuracy: 0.9741\n",
            "Epoch 15/50\n",
            "240/240 [==============================] - 3s 14ms/step - loss: 0.0188 - accuracy: 0.9933 - val_loss: 0.1384 - val_accuracy: 0.9748\n",
            "Epoch 16/50\n",
            "240/240 [==============================] - 3s 14ms/step - loss: 0.0193 - accuracy: 0.9940 - val_loss: 0.1452 - val_accuracy: 0.9737\n",
            "Epoch 17/50\n",
            "240/240 [==============================] - 3s 15ms/step - loss: 0.0178 - accuracy: 0.9942 - val_loss: 0.1575 - val_accuracy: 0.9753\n",
            "Epoch 18/50\n",
            "240/240 [==============================] - 3s 14ms/step - loss: 0.0193 - accuracy: 0.9938 - val_loss: 0.1382 - val_accuracy: 0.9753\n",
            "Epoch 19/50\n",
            "240/240 [==============================] - 4s 15ms/step - loss: 0.0160 - accuracy: 0.9948 - val_loss: 0.1441 - val_accuracy: 0.9761\n",
            "Epoch 20/50\n",
            "240/240 [==============================] - 4s 15ms/step - loss: 0.0135 - accuracy: 0.9954 - val_loss: 0.1392 - val_accuracy: 0.9762\n",
            "Epoch 21/50\n",
            "240/240 [==============================] - 4s 15ms/step - loss: 0.0103 - accuracy: 0.9966 - val_loss: 0.1512 - val_accuracy: 0.9764\n",
            "Epoch 22/50\n",
            "240/240 [==============================] - 4s 15ms/step - loss: 0.0094 - accuracy: 0.9967 - val_loss: 0.1489 - val_accuracy: 0.9755\n",
            "Epoch 23/50\n",
            "240/240 [==============================] - 4s 15ms/step - loss: 0.0095 - accuracy: 0.9966 - val_loss: 0.1556 - val_accuracy: 0.9747\n",
            "Epoch 24/50\n",
            "240/240 [==============================] - 4s 15ms/step - loss: 0.0127 - accuracy: 0.9960 - val_loss: 0.1798 - val_accuracy: 0.9708\n",
            "Epoch 25/50\n",
            "240/240 [==============================] - 4s 15ms/step - loss: 0.0141 - accuracy: 0.9956 - val_loss: 0.1559 - val_accuracy: 0.9746\n",
            "Epoch 26/50\n",
            "240/240 [==============================] - 4s 15ms/step - loss: 0.0142 - accuracy: 0.9955 - val_loss: 0.1534 - val_accuracy: 0.9758\n",
            "Epoch 27/50\n",
            "240/240 [==============================] - 4s 15ms/step - loss: 0.0117 - accuracy: 0.9964 - val_loss: 0.1518 - val_accuracy: 0.9768\n",
            "Epoch 28/50\n",
            "240/240 [==============================] - 4s 15ms/step - loss: 0.0144 - accuracy: 0.9957 - val_loss: 0.1692 - val_accuracy: 0.9779\n",
            "Epoch 29/50\n",
            "240/240 [==============================] - 4s 15ms/step - loss: 0.0105 - accuracy: 0.9965 - val_loss: 0.1546 - val_accuracy: 0.9758\n",
            "Epoch 30/50\n",
            "240/240 [==============================] - 4s 15ms/step - loss: 0.0083 - accuracy: 0.9972 - val_loss: 0.1627 - val_accuracy: 0.9768\n",
            "Epoch 31/50\n",
            "240/240 [==============================] - 4s 15ms/step - loss: 0.0054 - accuracy: 0.9983 - val_loss: 0.1584 - val_accuracy: 0.9768\n",
            "Epoch 32/50\n",
            "240/240 [==============================] - 4s 15ms/step - loss: 0.0062 - accuracy: 0.9978 - val_loss: 0.1828 - val_accuracy: 0.9758\n",
            "Epoch 33/50\n",
            "240/240 [==============================] - 4s 15ms/step - loss: 0.0169 - accuracy: 0.9952 - val_loss: 0.1696 - val_accuracy: 0.9767\n",
            "Epoch 34/50\n",
            "240/240 [==============================] - 4s 15ms/step - loss: 0.0088 - accuracy: 0.9971 - val_loss: 0.1787 - val_accuracy: 0.9748\n",
            "Epoch 35/50\n",
            "240/240 [==============================] - 4s 15ms/step - loss: 0.0096 - accuracy: 0.9970 - val_loss: 0.1706 - val_accuracy: 0.9761\n",
            "Epoch 36/50\n",
            "240/240 [==============================] - 4s 15ms/step - loss: 0.0088 - accuracy: 0.9971 - val_loss: 0.1757 - val_accuracy: 0.9770\n",
            "Epoch 37/50\n",
            "240/240 [==============================] - 4s 15ms/step - loss: 0.0090 - accuracy: 0.9972 - val_loss: 0.1652 - val_accuracy: 0.9794\n",
            "Epoch 38/50\n",
            "240/240 [==============================] - 4s 15ms/step - loss: 0.0028 - accuracy: 0.9991 - val_loss: 0.1657 - val_accuracy: 0.9777\n",
            "Epoch 39/50\n",
            "240/240 [==============================] - 4s 15ms/step - loss: 0.0045 - accuracy: 0.9985 - val_loss: 0.1744 - val_accuracy: 0.9774\n",
            "Epoch 40/50\n",
            "240/240 [==============================] - 4s 15ms/step - loss: 0.0090 - accuracy: 0.9969 - val_loss: 0.1801 - val_accuracy: 0.9763\n",
            "Epoch 41/50\n",
            "240/240 [==============================] - 4s 15ms/step - loss: 0.0117 - accuracy: 0.9966 - val_loss: 0.1994 - val_accuracy: 0.9737\n",
            "Epoch 42/50\n",
            "240/240 [==============================] - 4s 15ms/step - loss: 0.0080 - accuracy: 0.9973 - val_loss: 0.1906 - val_accuracy: 0.9768\n",
            "Epoch 43/50\n",
            "240/240 [==============================] - 4s 15ms/step - loss: 0.0047 - accuracy: 0.9982 - val_loss: 0.1976 - val_accuracy: 0.9764\n",
            "Epoch 44/50\n",
            "240/240 [==============================] - 4s 15ms/step - loss: 0.0035 - accuracy: 0.9987 - val_loss: 0.1783 - val_accuracy: 0.9778\n",
            "Epoch 45/50\n",
            "240/240 [==============================] - 4s 15ms/step - loss: 0.0047 - accuracy: 0.9985 - val_loss: 0.1790 - val_accuracy: 0.9776\n",
            "Epoch 46/50\n",
            "240/240 [==============================] - 4s 15ms/step - loss: 0.0076 - accuracy: 0.9976 - val_loss: 0.2180 - val_accuracy: 0.9728\n",
            "Epoch 47/50\n",
            "240/240 [==============================] - 4s 15ms/step - loss: 0.0104 - accuracy: 0.9967 - val_loss: 0.1760 - val_accuracy: 0.9765\n",
            "Epoch 48/50\n",
            "240/240 [==============================] - 4s 15ms/step - loss: 0.0048 - accuracy: 0.9982 - val_loss: 0.1820 - val_accuracy: 0.9783\n",
            "Epoch 49/50\n",
            "240/240 [==============================] - 4s 15ms/step - loss: 0.0053 - accuracy: 0.9985 - val_loss: 0.1710 - val_accuracy: 0.9784\n",
            "Epoch 50/50\n",
            "240/240 [==============================] - 4s 15ms/step - loss: 0.0055 - accuracy: 0.9983 - val_loss: 0.1934 - val_accuracy: 0.9766\n",
            "313/313 [==============================] - 1s 2ms/step - loss: 0.1823 - accuracy: 0.9785\n",
            "Test accuracy: 0.9785000085830688\n"
          ]
        },
        {
          "data": {
            "image/png": "[encoded data removed]",
            "text/plain": [
              "<Figure size 1152x432 with 2 Axes>"
            ]
          },
          "metadata": {
            "needs_background": "light"
          },
          "output_type": "display_data"
        }
      ],
      "source": [
        "# 編譯模型，帶入最佳化函數與損失函數，先都固定就好\n",
        "model.compile(optimizer='adam', loss='categorical_crossentropy', metrics=['accuracy'])\n",
        "\n",
        "# 開始訓練\n",
        "# epochs:訓練幾回，batch_size:一次丟多少筆訓練，verbose:輸出訊息, validation_split:從訓練集切驗證集的比例\n",
        "train_history = model.fit(X_train, y_train, epochs=50, batch_size=200, verbose=1, validation_split=0.2)\n",
        "\n",
        "# 計算測試集的準確度分數\n",
        "score = model.evaluate(X_test, y_test, verbose=1)\n",
        "print('Test accuracy:', score[1]) \n",
        "\n",
        "# 畫出訓練歷程\n",
        "show_train_history(train_history)"
      ]
    },
    {
      "cell_type": "code",
      "execution_count": null,
      "metadata": {
        "id": "zqcj8Q9QDm3I"
      },
      "outputs": [],
      "source": []
    }
  ],
  "metadata": {
    "accelerator": "GPU",
    "colab": {
      "collapsed_sections": [],
      "name": "Hello, MNIST!.ipynb",
      "provenance": []
    },
    "interpreter": {
      "hash": "034c3d392b3bcddc1619fc9bd72e3baa474410aa6af7ae8b89ee71730c98d0e1"
    },
    "kernelspec": {
      "display_name": "Python 3.10.4 64-bit",
      "language": "python",
      "name": "python3"
    },
    "language_info": {
      "codemirror_mode": {
        "name": "ipython",
        "version": 3
      },
      "file_extension": ".py",
      "mimetype": "text/x-python",
      "name": "python",
      "nbconvert_exporter": "python",
      "pygments_lexer": "ipython3",
      "version": "3.10.4"
    },
    "widgets": {
      "application/vnd.jupyter.widget-state+json": {
        "04f17484421c49cf9170b25bc6d6c5c9": {
          "model_module": "@jupyter-widgets/controls",
          "model_module_version": "1.5.0",
          "model_name": "FloatProgressModel",
          "state": {
            "_dom_classes": [],
            "_model_module": "@jupyter-widgets/controls",
            "_model_module_version": "1.5.0",
            "_model_name": "FloatProgressModel",
            "_view_count": null,
            "_view_module": "@jupyter-widgets/controls",
            "_view_module_version": "1.5.0",
            "_view_name": "ProgressView",
            "bar_style": "success",
            "description": "Dl Completed...: 100%",
            "description_tooltip": null,
            "layout": "IPY_MODEL_1e8270ab90644287928b2c1b4f8b82b7",
            "max": 4,
            "min": 0,
            "orientation": "horizontal",
            "style": "IPY_MODEL_14c6ee4e35c14682826ba03ddd35f165",
            "value": 4
          }
        },
        "14c6ee4e35c14682826ba03ddd35f165": {
          "model_module": "@jupyter-widgets/controls",
          "model_module_version": "1.5.0",
          "model_name": "ProgressStyleModel",
          "state": {
            "_model_module": "@jupyter-widgets/controls",
            "_model_module_version": "1.5.0",
            "_model_name": "ProgressStyleModel",
            "_view_count": null,
            "_view_module": "@jupyter-widgets/base",
            "_view_module_version": "1.2.0",
            "_view_name": "StyleView",
            "bar_color": null,
            "description_width": "initial"
          }
        },
        "1e8270ab90644287928b2c1b4f8b82b7": {
          "model_module": "@jupyter-widgets/base",
          "model_module_version": "1.2.0",
          "model_name": "LayoutModel",
          "state": {
            "_model_module": "@jupyter-widgets/base",
            "_model_module_version": "1.2.0",
            "_model_name": "LayoutModel",
            "_view_count": null,
            "_view_module": "@jupyter-widgets/base",
            "_view_module_version": "1.2.0",
            "_view_name": "LayoutView",
            "align_content": null,
            "align_items": null,
            "align_self": null,
            "border": null,
            "bottom": null,
            "display": null,
            "flex": null,
            "flex_flow": null,
            "grid_area": null,
            "grid_auto_columns": null,
            "grid_auto_flow": null,
            "grid_auto_rows": null,
            "grid_column": null,
            "grid_gap": null,
            "grid_row": null,
            "grid_template_areas": null,
            "grid_template_columns": null,
            "grid_template_rows": null,
            "height": null,
            "justify_content": null,
            "justify_items": null,
            "left": null,
            "margin": null,
            "max_height": null,
            "max_width": null,
            "min_height": null,
            "min_width": null,
            "object_fit": null,
            "object_position": null,
            "order": null,
            "overflow": null,
            "overflow_x": null,
            "overflow_y": null,
            "padding": null,
            "right": null,
            "top": null,
            "visibility": null,
            "width": null
          }
        },
        "3d35340dff7847e6880b702352d42ccb": {
          "model_module": "@jupyter-widgets/controls",
          "model_module_version": "1.5.0",
          "model_name": "HBoxModel",
          "state": {
            "_dom_classes": [],
            "_model_module": "@jupyter-widgets/controls",
            "_model_module_version": "1.5.0",
            "_model_name": "HBoxModel",
            "_view_count": null,
            "_view_module": "@jupyter-widgets/controls",
            "_view_module_version": "1.5.0",
            "_view_name": "HBoxView",
            "box_style": "",
            "children": [
              "IPY_MODEL_04f17484421c49cf9170b25bc6d6c5c9",
              "IPY_MODEL_b165b0ab39c4450091b5e9d222c1eb2c"
            ],
            "layout": "IPY_MODEL_4fe7dec5f3ee49de9f1f5e0d82b76c3e"
          }
        },
        "4fe7dec5f3ee49de9f1f5e0d82b76c3e": {
          "model_module": "@jupyter-widgets/base",
          "model_module_version": "1.2.0",
          "model_name": "LayoutModel",
          "state": {
            "_model_module": "@jupyter-widgets/base",
            "_model_module_version": "1.2.0",
            "_model_name": "LayoutModel",
            "_view_count": null,
            "_view_module": "@jupyter-widgets/base",
            "_view_module_version": "1.2.0",
            "_view_name": "LayoutView",
            "align_content": null,
            "align_items": null,
            "align_self": null,
            "border": null,
            "bottom": null,
            "display": null,
            "flex": null,
            "flex_flow": null,
            "grid_area": null,
            "grid_auto_columns": null,
            "grid_auto_flow": null,
            "grid_auto_rows": null,
            "grid_column": null,
            "grid_gap": null,
            "grid_row": null,
            "grid_template_areas": null,
            "grid_template_columns": null,
            "grid_template_rows": null,
            "height": null,
            "justify_content": null,
            "justify_items": null,
            "left": null,
            "margin": null,
            "max_height": null,
            "max_width": null,
            "min_height": null,
            "min_width": null,
            "object_fit": null,
            "object_position": null,
            "order": null,
            "overflow": null,
            "overflow_x": null,
            "overflow_y": null,
            "padding": null,
            "right": null,
            "top": null,
            "visibility": null,
            "width": null
          }
        },
        "8944872fbcbb4b2086b95a14cc4399e6": {
          "model_module": "@jupyter-widgets/controls",
          "model_module_version": "1.5.0",
          "model_name": "DescriptionStyleModel",
          "state": {
            "_model_module": "@jupyter-widgets/controls",
            "_model_module_version": "1.5.0",
            "_model_name": "DescriptionStyleModel",
            "_view_count": null,
            "_view_module": "@jupyter-widgets/base",
            "_view_module_version": "1.2.0",
            "_view_name": "StyleView",
            "description_width": ""
          }
        },
        "b165b0ab39c4450091b5e9d222c1eb2c": {
          "model_module": "@jupyter-widgets/controls",
          "model_module_version": "1.5.0",
          "model_name": "HTMLModel",
          "state": {
            "_dom_classes": [],
            "_model_module": "@jupyter-widgets/controls",
            "_model_module_version": "1.5.0",
            "_model_name": "HTMLModel",
            "_view_count": null,
            "_view_module": "@jupyter-widgets/controls",
            "_view_module_version": "1.5.0",
            "_view_name": "HTMLView",
            "description": "",
            "description_tooltip": null,
            "layout": "IPY_MODEL_f6c0700d65e34ce4a6fe65a7e9293297",
            "placeholder": "​",
            "style": "IPY_MODEL_8944872fbcbb4b2086b95a14cc4399e6",
            "value": " 4/4 [00:05&lt;00:00,  1.49s/ file]"
          }
        },
        "f6c0700d65e34ce4a6fe65a7e9293297": {
          "model_module": "@jupyter-widgets/base",
          "model_module_version": "1.2.0",
          "model_name": "LayoutModel",
          "state": {
            "_model_module": "@jupyter-widgets/base",
            "_model_module_version": "1.2.0",
            "_model_name": "LayoutModel",
            "_view_count": null,
            "_view_module": "@jupyter-widgets/base",
            "_view_module_version": "1.2.0",
            "_view_name": "LayoutView",
            "align_content": null,
            "align_items": null,
            "align_self": null,
            "border": null,
            "bottom": null,
            "display": null,
            "flex": null,
            "flex_flow": null,
            "grid_area": null,
            "grid_auto_columns": null,
            "grid_auto_flow": null,
            "grid_auto_rows": null,
            "grid_column": null,
            "grid_gap": null,
            "grid_row": null,
            "grid_template_areas": null,
            "grid_template_columns": null,
            "grid_template_rows": null,
            "height": null,
            "justify_content": null,
            "justify_items": null,
            "left": null,
            "margin": null,
            "max_height": null,
            "max_width": null,
            "min_height": null,
            "min_width": null,
            "object_fit": null,
            "object_position": null,
            "order": null,
            "overflow": null,
            "overflow_x": null,
            "overflow_y": null,
            "padding": null,
            "right": null,
            "top": null,
            "visibility": null,
            "width": null
          }
        }
      }
    }
  },
  "nbformat": 4,
  "nbformat_minor": 0
}
