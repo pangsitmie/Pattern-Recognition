{
  "cells": [
    {
      "cell_type": "code",
      "execution_count": 7,
      "metadata": {
        "colab": {
          "base_uri": "https://localhost:8080/",
          "height": 719,
          "referenced_widgets": [
            "3d35340dff7847e6880b702352d42ccb",
            "4fe7dec5f3ee49de9f1f5e0d82b76c3e",
            "04f17484421c49cf9170b25bc6d6c5c9",
            "b165b0ab39c4450091b5e9d222c1eb2c",
            "14c6ee4e35c14682826ba03ddd35f165",
            "1e8270ab90644287928b2c1b4f8b82b7",
            "8944872fbcbb4b2086b95a14cc4399e6",
            "f6c0700d65e34ce4a6fe65a7e9293297"
          ]
        },
        "id": "Ra7hsoIFDhnV",
        "outputId": "d25921a4-70fd-40d9-f3b6-463ce2d51c46"
      },
      "outputs": [
        {
          "data": {
            "image/png": "[encoded data removed]",
            "text/plain": [
              "<Figure size 648x648 with 9 Axes>"
            ]
          },
          "metadata": {},
          "output_type": "display_data"
        }
      ],
      "source": [
        "import tensorflow_datasets as tfds\n",
        "\n",
        "name = 'mnist'\n",
        "ds, info = tfds.load(name, with_info=True, as_supervised=True)\n",
        "f = tfds.show_examples(ds['train'], info)"
      ]
    },
    {
      "cell_type": "code",
      "execution_count": 8,
      "metadata": {
        "id": "inBJaAb7Nivr"
      },
      "outputs": [],
      "source": [
        "import numpy as np\n",
        "from keras.utils import np_utils\n",
        "\n",
        "ds = tfds.as_numpy(tfds.load(name, as_supervised=True, batch_size=-1))\n",
        "(X_train, y_train), (X_test, y_test) = ds['train'], ds['test']\n",
        "\n",
        "classes = 10\n",
        "y_test = np_utils.to_categorical(y_test, classes)\n",
        "y_train = np_utils.to_categorical(y_train, classes)"
      ]
    },
    {
      "cell_type": "code",
      "execution_count": 9,
      "metadata": {
        "colab": {
          "base_uri": "https://localhost:8080/"
        },
        "id": "SlZ1RsmMw8ZV",
        "outputId": "751a5655-e3da-41e5-c5a0-fb4bd0869fd3"
      },
      "outputs": [
        {
          "name": "stdout",
          "output_type": "stream",
          "text": [
            "X_train (60000, 28, 28, 1) X_test (10000, 28, 28, 1)\n",
            "y_train (60000, 10) y_test (10000, 10)\n"
          ]
        }
      ],
      "source": [
        "print(\"X_train\", X_train.shape, \"X_test\", X_test.shape)\n",
        "print(\"y_train\", y_train.shape, \"y_test\", y_test.shape)"
      ]
    },
    {
      "cell_type": "code",
      "execution_count": 10,
      "metadata": {
        "colab": {
          "base_uri": "https://localhost:8080/"
        },
        "id": "pXOGxQ_PDkVB",
        "outputId": "1dc6cf8f-280f-4131-efaf-44a2c7fbce44"
      },
      "outputs": [
        {
          "name": "stdout",
          "output_type": "stream",
          "text": [
            "Model: \"sequential_1\"\n",
            "_________________________________________________________________\n",
            " Layer (type)                Output Shape              Param #   \n",
            "=================================================================\n",
            " conv2d_1 (Conv2D)           (None, 26, 26, 16)        160       \n",
            "                                                                 \n",
            " max_pooling2d_1 (MaxPooling  (None, 13, 13, 16)       0         \n",
            " 2D)                                                             \n",
            "                                                                 \n",
            " flatten_1 (Flatten)         (None, 2704)              0         \n",
            "                                                                 \n",
            " dense_2 (Dense)             (None, 32)                86560     \n",
            "                                                                 \n",
            " dense_3 (Dense)             (None, 10)                330       \n",
            "                                                                 \n",
            "=================================================================\n",
            "Total params: 87,050\n",
            "Trainable params: 87,050\n",
            "Non-trainable params: 0\n",
            "_________________________________________________________________\n"
          ]
        }
      ],
      "source": [
        "from keras.models import Sequential\n",
        "from keras.layers import InputLayer, Conv2D, MaxPool2D, Flatten, Dense\n",
        "\n",
        "model = Sequential() # 建立空的模型框架\n",
        "model.add(InputLayer(input_shape=(28, 28, 1))) # 第一層這樣固定\n",
        "# ↓↓↓發揮想像力的時候到了↓↓↓\n",
        "\n",
        "# 有用到卷積層只要改第一個數字就好，經驗上是2的倍數，其他照舊，長寬維度每次會少2\n",
        "model.add(Conv2D(16, 3, activation='relu'))\n",
        "\n",
        "# 用到池化層這樣打就好，注意!前一層如果有某個維度是1會報錯(1不能再除了阿~)\n",
        "model.add(MaxPool2D())\n",
        "\n",
        "model.add(Flatten()) # 接Dense之前要先Flatten\n",
        "\n",
        "# 神經元也可以多層組成FC，一樣改第一個數字\n",
        "model.add(Dense(32, activation='relu'))\n",
        "\n",
        "# ↑↑↑發揮想像力的時候到了↑↑↑\n",
        "\n",
        "# 最後一層輸出的activation給固定\"softmax\"\n",
        "model.add(Dense(10, activation='softmax'))\n",
        "\n",
        "# 模型總覽\n",
        "model.summary()\n"
      ]
    },
    {
      "cell_type": "code",
      "execution_count": 11,
      "metadata": {
        "id": "6joJT--uHaQc"
      },
      "outputs": [],
      "source": [
        "import matplotlib.pyplot as plt\n",
        "\n",
        "def show_train_history(train_history):\n",
        "    fig=plt.gcf()\n",
        "    fig.set_size_inches(16, 6)\n",
        "    plt.subplot(121)\n",
        "    plt.plot(train_history.history[\"accuracy\"])\n",
        "    plt.plot(train_history.history[\"val_accuracy\"])\n",
        "    plt.title(\"Train History\")\n",
        "    plt.xlabel(\"Epoch\")\n",
        "    plt.ylabel(\"Accuracy\")\n",
        "    plt.legend([\"train\", \"validation\"], loc=\"best\")\n",
        "    plt.subplot(122)\n",
        "    plt.plot(train_history.history[\"loss\"])\n",
        "    plt.plot(train_history.history[\"val_loss\"])\n",
        "    plt.title(\"Train History\")\n",
        "    plt.xlabel(\"Epoch\")\n",
        "    plt.ylabel(\"Loss\")\n",
        "    plt.legend([\"train\", \"validation\"], loc=\"best\")\n",
        "    plt.show()"
      ]
    },
    {
      "cell_type": "code",
      "execution_count": 12,
      "metadata": {
        "colab": {
          "base_uri": "https://localhost:8080/",
          "height": 1000
        },
        "id": "P18JpBzcDl64",
        "outputId": "f85837eb-1646-4d13-8e87-9d69604355bb"
      },
      "outputs": [
        {
          "name": "stdout",
          "output_type": "stream",
          "text": [
            "Epoch 1/50\n",
            "240/240 [==============================] - 6s 22ms/step - loss: 2.0295 - accuracy: 0.4354 - val_loss: 1.1980 - val_accuracy: 0.5954\n",
            "Epoch 2/50\n",
            "240/240 [==============================] - 5s 21ms/step - loss: 1.0189 - accuracy: 0.6576 - val_loss: 0.9649 - val_accuracy: 0.6639\n",
            "Epoch 3/50\n",
            "240/240 [==============================] - 5s 23ms/step - loss: 0.7191 - accuracy: 0.7723 - val_loss: 0.5122 - val_accuracy: 0.9096\n",
            "Epoch 4/50\n",
            "240/240 [==============================] - 6s 24ms/step - loss: 0.3943 - accuracy: 0.9256 - val_loss: 0.2790 - val_accuracy: 0.9339\n",
            "Epoch 5/50\n",
            "240/240 [==============================] - 6s 24ms/step - loss: 0.1897 - accuracy: 0.9506 - val_loss: 0.1893 - val_accuracy: 0.9532\n",
            "Epoch 6/50\n",
            "240/240 [==============================] - 6s 24ms/step - loss: 0.1324 - accuracy: 0.9634 - val_loss: 0.1576 - val_accuracy: 0.9611\n",
            "Epoch 7/50\n",
            "240/240 [==============================] - 6s 24ms/step - loss: 0.1042 - accuracy: 0.9706 - val_loss: 0.1500 - val_accuracy: 0.9642\n",
            "Epoch 8/50\n",
            "240/240 [==============================] - 6s 24ms/step - loss: 0.0865 - accuracy: 0.9754 - val_loss: 0.1376 - val_accuracy: 0.9657\n",
            "Epoch 9/50\n",
            "240/240 [==============================] - 6s 23ms/step - loss: 0.0737 - accuracy: 0.9784 - val_loss: 0.1397 - val_accuracy: 0.9623\n",
            "Epoch 10/50\n",
            "240/240 [==============================] - 6s 27ms/step - loss: 0.0627 - accuracy: 0.9814 - val_loss: 0.1214 - val_accuracy: 0.9679\n",
            "Epoch 11/50\n",
            "240/240 [==============================] - 7s 29ms/step - loss: 0.0523 - accuracy: 0.9836 - val_loss: 0.1184 - val_accuracy: 0.9689\n",
            "Epoch 12/50\n",
            "240/240 [==============================] - 7s 28ms/step - loss: 0.0454 - accuracy: 0.9859 - val_loss: 0.1250 - val_accuracy: 0.9684\n",
            "Epoch 13/50\n",
            "240/240 [==============================] - 7s 27ms/step - loss: 0.0378 - accuracy: 0.9886 - val_loss: 0.1268 - val_accuracy: 0.9683\n",
            "Epoch 14/50\n",
            "240/240 [==============================] - 7s 29ms/step - loss: 0.0355 - accuracy: 0.9888 - val_loss: 0.1280 - val_accuracy: 0.9678\n",
            "Epoch 15/50\n",
            "240/240 [==============================] - 6s 26ms/step - loss: 0.0301 - accuracy: 0.9905 - val_loss: 0.1206 - val_accuracy: 0.9718\n",
            "Epoch 16/50\n",
            "240/240 [==============================] - 6s 25ms/step - loss: 0.0268 - accuracy: 0.9917 - val_loss: 0.1211 - val_accuracy: 0.9714\n",
            "Epoch 17/50\n",
            "240/240 [==============================] - 7s 27ms/step - loss: 0.0269 - accuracy: 0.9916 - val_loss: 0.1229 - val_accuracy: 0.9717\n",
            "Epoch 18/50\n",
            "240/240 [==============================] - 6s 26ms/step - loss: 0.0240 - accuracy: 0.9925 - val_loss: 0.1326 - val_accuracy: 0.9712\n",
            "Epoch 19/50\n",
            "240/240 [==============================] - 6s 25ms/step - loss: 0.0242 - accuracy: 0.9920 - val_loss: 0.1234 - val_accuracy: 0.9743\n",
            "Epoch 20/50\n",
            "240/240 [==============================] - 6s 26ms/step - loss: 0.0204 - accuracy: 0.9935 - val_loss: 0.1352 - val_accuracy: 0.9725\n",
            "Epoch 21/50\n",
            "240/240 [==============================] - 6s 26ms/step - loss: 0.0214 - accuracy: 0.9929 - val_loss: 0.1385 - val_accuracy: 0.9732\n",
            "Epoch 22/50\n",
            "240/240 [==============================] - 6s 26ms/step - loss: 0.0163 - accuracy: 0.9948 - val_loss: 0.1342 - val_accuracy: 0.9732\n",
            "Epoch 23/50\n",
            "240/240 [==============================] - 6s 27ms/step - loss: 0.0162 - accuracy: 0.9950 - val_loss: 0.1476 - val_accuracy: 0.9714\n",
            "Epoch 24/50\n",
            "240/240 [==============================] - 6s 27ms/step - loss: 0.0206 - accuracy: 0.9933 - val_loss: 0.1485 - val_accuracy: 0.9704\n",
            "Epoch 25/50\n",
            "240/240 [==============================] - 6s 24ms/step - loss: 0.0174 - accuracy: 0.9941 - val_loss: 0.1513 - val_accuracy: 0.9723\n",
            "Epoch 26/50\n",
            "240/240 [==============================] - 6s 23ms/step - loss: 0.0152 - accuracy: 0.9952 - val_loss: 0.1589 - val_accuracy: 0.9727\n",
            "Epoch 27/50\n",
            "240/240 [==============================] - 6s 24ms/step - loss: 0.0141 - accuracy: 0.9955 - val_loss: 0.1567 - val_accuracy: 0.9728\n",
            "Epoch 28/50\n",
            "240/240 [==============================] - 6s 24ms/step - loss: 0.0138 - accuracy: 0.9957 - val_loss: 0.1569 - val_accuracy: 0.9738\n",
            "Epoch 29/50\n",
            "240/240 [==============================] - 6s 24ms/step - loss: 0.0140 - accuracy: 0.9954 - val_loss: 0.1686 - val_accuracy: 0.9737\n",
            "Epoch 30/50\n",
            "240/240 [==============================] - 6s 24ms/step - loss: 0.0125 - accuracy: 0.9959 - val_loss: 0.1693 - val_accuracy: 0.9728\n",
            "Epoch 31/50\n",
            "240/240 [==============================] - 6s 24ms/step - loss: 0.0150 - accuracy: 0.9952 - val_loss: 0.1579 - val_accuracy: 0.9721\n",
            "Epoch 32/50\n",
            "240/240 [==============================] - 6s 23ms/step - loss: 0.0107 - accuracy: 0.9963 - val_loss: 0.1610 - val_accuracy: 0.9747\n",
            "Epoch 33/50\n",
            "240/240 [==============================] - 6s 23ms/step - loss: 0.0140 - accuracy: 0.9956 - val_loss: 0.1648 - val_accuracy: 0.9718\n",
            "Epoch 34/50\n",
            "240/240 [==============================] - 6s 24ms/step - loss: 0.0102 - accuracy: 0.9967 - val_loss: 0.1678 - val_accuracy: 0.9719\n",
            "Epoch 35/50\n",
            "240/240 [==============================] - 6s 24ms/step - loss: 0.0100 - accuracy: 0.9968 - val_loss: 0.1744 - val_accuracy: 0.9728\n",
            "Epoch 36/50\n",
            "240/240 [==============================] - 6s 24ms/step - loss: 0.0093 - accuracy: 0.9969 - val_loss: 0.1825 - val_accuracy: 0.9718\n",
            "Epoch 37/50\n",
            "240/240 [==============================] - 6s 24ms/step - loss: 0.0159 - accuracy: 0.9951 - val_loss: 0.1939 - val_accuracy: 0.9729\n",
            "Epoch 38/50\n",
            "240/240 [==============================] - 6s 24ms/step - loss: 0.0125 - accuracy: 0.9958 - val_loss: 0.1938 - val_accuracy: 0.9730\n",
            "Epoch 39/50\n",
            "240/240 [==============================] - 6s 23ms/step - loss: 0.0143 - accuracy: 0.9956 - val_loss: 0.1966 - val_accuracy: 0.9714\n",
            "Epoch 40/50\n",
            "240/240 [==============================] - 6s 24ms/step - loss: 0.0111 - accuracy: 0.9962 - val_loss: 0.1864 - val_accuracy: 0.9741\n",
            "Epoch 41/50\n",
            "240/240 [==============================] - 6s 24ms/step - loss: 0.0067 - accuracy: 0.9979 - val_loss: 0.1914 - val_accuracy: 0.9732\n",
            "Epoch 42/50\n",
            "240/240 [==============================] - 6s 27ms/step - loss: 0.0058 - accuracy: 0.9983 - val_loss: 0.1838 - val_accuracy: 0.9750\n",
            "Epoch 43/50\n",
            "240/240 [==============================] - 7s 28ms/step - loss: 0.0053 - accuracy: 0.9983 - val_loss: 0.1864 - val_accuracy: 0.9739\n",
            "Epoch 44/50\n",
            "240/240 [==============================] - 6s 24ms/step - loss: 0.0108 - accuracy: 0.9967 - val_loss: 0.1949 - val_accuracy: 0.9739\n",
            "Epoch 45/50\n",
            "240/240 [==============================] - 6s 27ms/step - loss: 0.0145 - accuracy: 0.9952 - val_loss: 0.2203 - val_accuracy: 0.9717\n",
            "Epoch 46/50\n",
            "240/240 [==============================] - 6s 26ms/step - loss: 0.0153 - accuracy: 0.9955 - val_loss: 0.2178 - val_accuracy: 0.9714\n",
            "Epoch 47/50\n",
            "240/240 [==============================] - 6s 26ms/step - loss: 0.0113 - accuracy: 0.9964 - val_loss: 0.1991 - val_accuracy: 0.9718\n",
            "Epoch 48/50\n",
            "240/240 [==============================] - 6s 25ms/step - loss: 0.0077 - accuracy: 0.9979 - val_loss: 0.1968 - val_accuracy: 0.9736\n",
            "Epoch 49/50\n",
            "240/240 [==============================] - 7s 28ms/step - loss: 0.0050 - accuracy: 0.9985 - val_loss: 0.1878 - val_accuracy: 0.9743\n",
            "Epoch 50/50\n",
            "240/240 [==============================] - 6s 26ms/step - loss: 0.0038 - accuracy: 0.9988 - val_loss: 0.1878 - val_accuracy: 0.9755\n",
            "313/313 [==============================] - 1s 3ms/step - loss: 0.1911 - accuracy: 0.9754\n",
            "Test accuracy: 0.9753999710083008\n"
          ]
        },
        {
          "data": {
            "image/png": "[encoded data removed]",
            "text/plain": [
              "<Figure size 1152x432 with 2 Axes>"
            ]
          },
          "metadata": {
            "needs_background": "light"
          },
          "output_type": "display_data"
        }
      ],
      "source": [
        "# 編譯模型，帶入最佳化函數與損失函數，先都固定就好\n",
        "model.compile(optimizer='adam', loss='categorical_crossentropy', metrics=['accuracy'])\n",
        "\n",
        "# 開始訓練\n",
        "# epochs:訓練幾回，batch_size:一次丟多少筆訓練，verbose:輸出訊息, validation_split:從訓練集切驗證集的比例\n",
        "train_history = model.fit(X_train, y_train, epochs=50, batch_size=200, verbose=1, validation_split=0.2)\n",
        "\n",
        "# 計算測試集的準確度分數\n",
        "score = model.evaluate(X_test, y_test, verbose=1)\n",
        "print('Test accuracy:', score[1]) \n",
        "\n",
        "# 畫出訓練歷程\n",
        "show_train_history(train_history)"
      ]
    },
    {
      "cell_type": "code",
      "execution_count": null,
      "metadata": {
        "id": "zqcj8Q9QDm3I"
      },
      "outputs": [],
      "source": []
    }
  ],
  "metadata": {
    "accelerator": "GPU",
    "colab": {
      "collapsed_sections": [],
      "name": "Hello, MNIST!.ipynb",
      "provenance": []
    },
    "interpreter": {
      "hash": "d60376295d10e5cbe146fe917873620c03f2e19685454726ee67370b6b7c750b"
    },
    "kernelspec": {
      "display_name": "Python 3.10.4 64-bit",
      "language": "python",
      "name": "python3"
    },
    "language_info": {
      "codemirror_mode": {
        "name": "ipython",
        "version": 3
      },
      "file_extension": ".py",
      "mimetype": "text/x-python",
      "name": "python",
      "nbconvert_exporter": "python",
      "pygments_lexer": "ipython3",
      "version": "3.10.4"
    },
    "widgets": {
      "application/vnd.jupyter.widget-state+json": {
        "04f17484421c49cf9170b25bc6d6c5c9": {
          "model_module": "@jupyter-widgets/controls",
          "model_module_version": "1.5.0",
          "model_name": "FloatProgressModel",
          "state": {
            "_dom_classes": [],
            "_model_module": "@jupyter-widgets/controls",
            "_model_module_version": "1.5.0",
            "_model_name": "FloatProgressModel",
            "_view_count": null,
            "_view_module": "@jupyter-widgets/controls",
            "_view_module_version": "1.5.0",
            "_view_name": "ProgressView",
            "bar_style": "success",
            "description": "Dl Completed...: 100%",
            "description_tooltip": null,
            "layout": "IPY_MODEL_1e8270ab90644287928b2c1b4f8b82b7",
            "max": 4,
            "min": 0,
            "orientation": "horizontal",
            "style": "IPY_MODEL_14c6ee4e35c14682826ba03ddd35f165",
            "value": 4
          }
        },
        "14c6ee4e35c14682826ba03ddd35f165": {
          "model_module": "@jupyter-widgets/controls",
          "model_module_version": "1.5.0",
          "model_name": "ProgressStyleModel",
          "state": {
            "_model_module": "@jupyter-widgets/controls",
            "_model_module_version": "1.5.0",
            "_model_name": "ProgressStyleModel",
            "_view_count": null,
            "_view_module": "@jupyter-widgets/base",
            "_view_module_version": "1.2.0",
            "_view_name": "StyleView",
            "bar_color": null,
            "description_width": "initial"
          }
        },
        "1e8270ab90644287928b2c1b4f8b82b7": {
          "model_module": "@jupyter-widgets/base",
          "model_module_version": "1.2.0",
          "model_name": "LayoutModel",
          "state": {
            "_model_module": "@jupyter-widgets/base",
            "_model_module_version": "1.2.0",
            "_model_name": "LayoutModel",
            "_view_count": null,
            "_view_module": "@jupyter-widgets/base",
            "_view_module_version": "1.2.0",
            "_view_name": "LayoutView",
            "align_content": null,
            "align_items": null,
            "align_self": null,
            "border": null,
            "bottom": null,
            "display": null,
            "flex": null,
            "flex_flow": null,
            "grid_area": null,
            "grid_auto_columns": null,
            "grid_auto_flow": null,
            "grid_auto_rows": null,
            "grid_column": null,
            "grid_gap": null,
            "grid_row": null,
            "grid_template_areas": null,
            "grid_template_columns": null,
            "grid_template_rows": null,
            "height": null,
            "justify_content": null,
            "justify_items": null,
            "left": null,
            "margin": null,
            "max_height": null,
            "max_width": null,
            "min_height": null,
            "min_width": null,
            "object_fit": null,
            "object_position": null,
            "order": null,
            "overflow": null,
            "overflow_x": null,
            "overflow_y": null,
            "padding": null,
            "right": null,
            "top": null,
            "visibility": null,
            "width": null
          }
        },
        "3d35340dff7847e6880b702352d42ccb": {
          "model_module": "@jupyter-widgets/controls",
          "model_module_version": "1.5.0",
          "model_name": "HBoxModel",
          "state": {
            "_dom_classes": [],
            "_model_module": "@jupyter-widgets/controls",
            "_model_module_version": "1.5.0",
            "_model_name": "HBoxModel",
            "_view_count": null,
            "_view_module": "@jupyter-widgets/controls",
            "_view_module_version": "1.5.0",
            "_view_name": "HBoxView",
            "box_style": "",
            "children": [
              "IPY_MODEL_04f17484421c49cf9170b25bc6d6c5c9",
              "IPY_MODEL_b165b0ab39c4450091b5e9d222c1eb2c"
            ],
            "layout": "IPY_MODEL_4fe7dec5f3ee49de9f1f5e0d82b76c3e"
          }
        },
        "4fe7dec5f3ee49de9f1f5e0d82b76c3e": {
          "model_module": "@jupyter-widgets/base",
          "model_module_version": "1.2.0",
          "model_name": "LayoutModel",
          "state": {
            "_model_module": "@jupyter-widgets/base",
            "_model_module_version": "1.2.0",
            "_model_name": "LayoutModel",
            "_view_count": null,
            "_view_module": "@jupyter-widgets/base",
            "_view_module_version": "1.2.0",
            "_view_name": "LayoutView",
            "align_content": null,
            "align_items": null,
            "align_self": null,
            "border": null,
            "bottom": null,
            "display": null,
            "flex": null,
            "flex_flow": null,
            "grid_area": null,
            "grid_auto_columns": null,
            "grid_auto_flow": null,
            "grid_auto_rows": null,
            "grid_column": null,
            "grid_gap": null,
            "grid_row": null,
            "grid_template_areas": null,
            "grid_template_columns": null,
            "grid_template_rows": null,
            "height": null,
            "justify_content": null,
            "justify_items": null,
            "left": null,
            "margin": null,
            "max_height": null,
            "max_width": null,
            "min_height": null,
            "min_width": null,
            "object_fit": null,
            "object_position": null,
            "order": null,
            "overflow": null,
            "overflow_x": null,
            "overflow_y": null,
            "padding": null,
            "right": null,
            "top": null,
            "visibility": null,
            "width": null
          }
        },
        "8944872fbcbb4b2086b95a14cc4399e6": {
          "model_module": "@jupyter-widgets/controls",
          "model_module_version": "1.5.0",
          "model_name": "DescriptionStyleModel",
          "state": {
            "_model_module": "@jupyter-widgets/controls",
            "_model_module_version": "1.5.0",
            "_model_name": "DescriptionStyleModel",
            "_view_count": null,
            "_view_module": "@jupyter-widgets/base",
            "_view_module_version": "1.2.0",
            "_view_name": "StyleView",
            "description_width": ""
          }
        },
        "b165b0ab39c4450091b5e9d222c1eb2c": {
          "model_module": "@jupyter-widgets/controls",
          "model_module_version": "1.5.0",
          "model_name": "HTMLModel",
          "state": {
            "_dom_classes": [],
            "_model_module": "@jupyter-widgets/controls",
            "_model_module_version": "1.5.0",
            "_model_name": "HTMLModel",
            "_view_count": null,
            "_view_module": "@jupyter-widgets/controls",
            "_view_module_version": "1.5.0",
            "_view_name": "HTMLView",
            "description": "",
            "description_tooltip": null,
            "layout": "IPY_MODEL_f6c0700d65e34ce4a6fe65a7e9293297",
            "placeholder": "​",
            "style": "IPY_MODEL_8944872fbcbb4b2086b95a14cc4399e6",
            "value": " 4/4 [00:05&lt;00:00,  1.49s/ file]"
          }
        },
        "f6c0700d65e34ce4a6fe65a7e9293297": {
          "model_module": "@jupyter-widgets/base",
          "model_module_version": "1.2.0",
          "model_name": "LayoutModel",
          "state": {
            "_model_module": "@jupyter-widgets/base",
            "_model_module_version": "1.2.0",
            "_model_name": "LayoutModel",
            "_view_count": null,
            "_view_module": "@jupyter-widgets/base",
            "_view_module_version": "1.2.0",
            "_view_name": "LayoutView",
            "align_content": null,
            "align_items": null,
            "align_self": null,
            "border": null,
            "bottom": null,
            "display": null,
            "flex": null,
            "flex_flow": null,
            "grid_area": null,
            "grid_auto_columns": null,
            "grid_auto_flow": null,
            "grid_auto_rows": null,
            "grid_column": null,
            "grid_gap": null,
            "grid_row": null,
            "grid_template_areas": null,
            "grid_template_columns": null,
            "grid_template_rows": null,
            "height": null,
            "justify_content": null,
            "justify_items": null,
            "left": null,
            "margin": null,
            "max_height": null,
            "max_width": null,
            "min_height": null,
            "min_width": null,
            "object_fit": null,
            "object_position": null,
            "order": null,
            "overflow": null,
            "overflow_x": null,
            "overflow_y": null,
            "padding": null,
            "right": null,
            "top": null,
            "visibility": null,
            "width": null
          }
        }
      }
    }
  },
  "nbformat": 4,
  "nbformat_minor": 0
}
